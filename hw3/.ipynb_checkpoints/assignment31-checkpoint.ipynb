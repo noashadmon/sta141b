{
 "cells": [
  {
   "cell_type": "markdown",
   "metadata": {},
   "source": [
    "# Assignment 3\n",
    "\n",
    "The US Department of Agriculture publishes price estimates for fruits and vegetables [online](https://www.ers.usda.gov/data-products/fruit-and-vegetable-prices/fruit-and-vegetable-prices/). The most recent estimates are based on a 2013 survey of US retail stores.\n",
    "\n",
    "The estimates are provided as a collection of MS Excel files, with one file per fruit or vegetable. The `assignment3_data.zip` file contains the fruit and vegetable files in the directories `fruit` and `vegetables`, respectively."
   ]
  },
  {
   "cell_type": "markdown",
   "metadata": {},
   "source": [
    "__Exercise 1.1.__ Use pandas to extract the \"Fresh\" row(s) from the <strong style=\"color:#B0B\">fruit</strong> Excel files. Combine the data into a single data frame. Your data frame should look something like this:\n",
    "\n",
    "type       | food       | form   | price_per_lb | yield | lb_per_cup | price_per_cup\n",
    "---------- | ---------- | ------ | ------------ | ----- | ---------- | -------------\n",
    "fruit      | watermelon | Fresh1 | 0.333412     | 0.52  | 0.330693   | 0.212033\n",
    "fruit      | cantaloupe | Fresh1 | 0.535874     | 0.51  | 0.374786   | 0.3938\n",
    "vegetables | onions     | Fresh1 | 1.03811      | 0.9   | 0.35274    | 0.406868\n",
    "...        |            |        |              |       |            |\n",
    "\n",
    "\n",
    "It's okay if the rows and columns of your data frame are in a different order. These modules are especially relevant:\n",
    "\n",
    "* [`str` methods](https://docs.python.org/2/library/stdtypes.html#string-methods)\n",
    "* [`os`](https://docs.python.org/2/library/os.html)\n",
    "* [`os.path`](https://docs.python.org/2/library/os.path.html)\n",
    "* [pandas](http://pandas.pydata.org/pandas-docs/stable/): `read_excel()`, `concat()`, `.fillna()`, `.str`, plotting methods\n",
    "\n",
    "Ask questions and search the documentation/web to find the functions you need.\n"
   ]
  },
  {
   "cell_type": "code",
   "execution_count": 3,
   "metadata": {
    "collapsed": false
   },
   "outputs": [
    {
     "name": "stdout",
     "output_type": "stream",
     "text": [
      "['apples.xlsx', 'apricots.xlsx', 'bananas.xlsx', 'berries_mixed.xlsx', 'blackberries.xlsx', 'blueberries.xlsx', 'cantaloupe.xlsx', 'cherries.xlsx', 'cranberries.xlsx', 'dates.xlsx', 'figs.xlsx', 'fruit_cocktail.xlsx', 'grapefruit.xlsx', 'grapes.xlsx', 'honeydew.xlsx', 'kiwi.xlsx', 'mangoes.xlsx', 'nectarines.xlsx', 'oranges.xlsx', 'papaya.xlsx', 'peaches.xlsx', 'pears.xlsx', 'pineapple.xlsx', 'plums.xlsx', 'pomegranate.xlsx', 'raspberries.xlsx', 'strawberries.xlsx', 'tangerines.xlsx', 'watermelon.xlsx']\n"
     ]
    }
   ],
   "source": [
    "import numpy as np\n",
    "import pandas as pd\n",
    "import os\n",
    "oldlist = os.listdir(\"assignment3_data/fruit/\")\n",
    "#lil = [x for x in oldlist if \"~\" not in x] # list the files\n",
    "x = [pd.read_excel(path+y) for y in files]\n",
    "#print lil"
   ]
  },
  {
   "cell_type": "code",
   "execution_count": 5,
   "metadata": {
    "collapsed": false
   },
   "outputs": [
    {
     "ename": "TypeError",
     "evalue": "can only concatenate list (not \"str\") to list",
     "output_type": "error",
     "traceback": [
      "\u001b[0;31m---------------------------------------------------------------------------\u001b[0m",
      "\u001b[0;31mTypeError\u001b[0m                                 Traceback (most recent call last)",
      "\u001b[0;32m<ipython-input-5-3badd1c8ce2f>\u001b[0m in \u001b[0;36m<module>\u001b[0;34m()\u001b[0m\n\u001b[0;32m----> 1\u001b[0;31m \u001b[0mnotwebscraped\u001b[0m \u001b[0;34m=\u001b[0m \u001b[0;34m[\u001b[0m\u001b[0mpd\u001b[0m\u001b[0;34m.\u001b[0m\u001b[0mread_excel\u001b[0m\u001b[0;34m(\u001b[0m\u001b[0moldlist\u001b[0m\u001b[0;34m+\u001b[0m\u001b[0mx\u001b[0m\u001b[0;34m)\u001b[0m \u001b[0;32mfor\u001b[0m \u001b[0mx\u001b[0m \u001b[0;32min\u001b[0m \u001b[0mlil\u001b[0m\u001b[0;34m]\u001b[0m\u001b[0;34m\u001b[0m\u001b[0m\n\u001b[0m\u001b[1;32m      2\u001b[0m \u001b[0;32mfor\u001b[0m \u001b[0mi\u001b[0m \u001b[0;32min\u001b[0m \u001b[0mrange\u001b[0m\u001b[0;34m(\u001b[0m\u001b[0mlen\u001b[0m\u001b[0;34m(\u001b[0m\u001b[0mlil\u001b[0m\u001b[0;34m)\u001b[0m\u001b[0;34m)\u001b[0m\u001b[0;34m:\u001b[0m\u001b[0;34m\u001b[0m\u001b[0m\n\u001b[1;32m      3\u001b[0m     \u001b[0mnotwebscraped\u001b[0m\u001b[0;34m[\u001b[0m\u001b[0mi\u001b[0m\u001b[0;34m]\u001b[0m\u001b[0;34m.\u001b[0m\u001b[0miloc\u001b[0m\u001b[0;34m[\u001b[0m\u001b[0;34m:\u001b[0m\u001b[0;34m,\u001b[0m\u001b[0;36m5\u001b[0m\u001b[0;34m]\u001b[0m \u001b[0;34m=\u001b[0m \u001b[0mlil\u001b[0m\u001b[0;34m[\u001b[0m\u001b[0mi\u001b[0m\u001b[0;34m]\u001b[0m \u001b[0;31m# read in data\u001b[0m\u001b[0;34m\u001b[0m\u001b[0m\n\u001b[1;32m      4\u001b[0m \u001b[0;34m\u001b[0m\u001b[0m\n\u001b[1;32m      5\u001b[0m \u001b[0;34m\u001b[0m\u001b[0m\n",
      "\u001b[0;31mTypeError\u001b[0m: can only concatenate list (not \"str\") to list"
     ]
    }
   ],
   "source": [
    "notwebscraped = [pd.read_excel(oldlist+x) for x in lil]\n",
    "for i in range(len(lil)):\n",
    "    notwebscraped[i].iloc[:,5] = lil[i] # read in data\n",
    "\n",
    "    \n"
   ]
  },
  {
   "cell_type": "code",
   "execution_count": 182,
   "metadata": {
    "collapsed": false
   },
   "outputs": [],
   "source": [
    "for i in range(len(lil)): #get the fruits\n",
    "    notwebscraped[i].iloc[:,2] = \"fruit\"\n",
    "\n"
   ]
  },
  {
   "cell_type": "code",
   "execution_count": 183,
   "metadata": {
    "collapsed": false
   },
   "outputs": [],
   "source": [
    "for i in range(len(lil)):\n",
    "    notwebscraped[i].iloc[:,5] = [x.rstrip(\".xslsx\") for x in notwebscraped[i].iloc[:,5]] #Loop to get fruit names"
   ]
  },
  {
   "cell_type": "code",
   "execution_count": 164,
   "metadata": {
    "collapsed": false
   },
   "outputs": [
    {
     "data": {
      "text/html": [
       "<div>\n",
       "<table border=\"1\" class=\"dataframe\">\n",
       "  <thead>\n",
       "    <tr style=\"text-align: right;\">\n",
       "      <th></th>\n",
       "      <th>Figs—Average retail price per pound and per cup equivalent, 2013</th>\n",
       "      <th>Unnamed: 1</th>\n",
       "      <th>Unnamed: 2</th>\n",
       "      <th>Unnamed: 3</th>\n",
       "      <th>Unnamed: 4</th>\n",
       "      <th>Unnamed: 5</th>\n",
       "      <th>Unnamed: 6</th>\n",
       "    </tr>\n",
       "  </thead>\n",
       "  <tbody>\n",
       "    <tr>\n",
       "      <th>0</th>\n",
       "      <td>Form</td>\n",
       "      <td>Average retail price</td>\n",
       "      <td>fruit</td>\n",
       "      <td>Preparation</td>\n",
       "      <td>Size of a</td>\n",
       "      <td>fig</td>\n",
       "      <td>Average price</td>\n",
       "    </tr>\n",
       "    <tr>\n",
       "      <th>1</th>\n",
       "      <td>NaN</td>\n",
       "      <td>NaN</td>\n",
       "      <td>fruit</td>\n",
       "      <td>yield factor</td>\n",
       "      <td>cup equivalent</td>\n",
       "      <td>fig</td>\n",
       "      <td>per cup equivalent</td>\n",
       "    </tr>\n",
       "    <tr>\n",
       "      <th>2</th>\n",
       "      <td>Dried1</td>\n",
       "      <td>5.74832</td>\n",
       "      <td>fruit</td>\n",
       "      <td>0.96</td>\n",
       "      <td>0.165347</td>\n",
       "      <td>fig</td>\n",
       "      <td>0.990068</td>\n",
       "    </tr>\n",
       "    <tr>\n",
       "      <th>3</th>\n",
       "      <td>1Includes whole dried figs. The USDA National ...</td>\n",
       "      <td>NaN</td>\n",
       "      <td>fruit</td>\n",
       "      <td>NaN</td>\n",
       "      <td>NaN</td>\n",
       "      <td>fig</td>\n",
       "      <td>NaN</td>\n",
       "    </tr>\n",
       "    <tr>\n",
       "      <th>4</th>\n",
       "      <td>NaN</td>\n",
       "      <td>NaN</td>\n",
       "      <td>fruit</td>\n",
       "      <td>NaN</td>\n",
       "      <td>NaN</td>\n",
       "      <td>fig</td>\n",
       "      <td>NaN</td>\n",
       "    </tr>\n",
       "    <tr>\n",
       "      <th>5</th>\n",
       "      <td>Source: Calculated by ERS, USDA from 2013 IRI ...</td>\n",
       "      <td>NaN</td>\n",
       "      <td>fruit</td>\n",
       "      <td>NaN</td>\n",
       "      <td>NaN</td>\n",
       "      <td>fig</td>\n",
       "      <td>NaN</td>\n",
       "    </tr>\n",
       "  </tbody>\n",
       "</table>\n",
       "</div>"
      ],
      "text/plain": [
       "  Figs—Average retail price per pound and per cup equivalent, 2013  \\\n",
       "0                                               Form                 \n",
       "1                                                NaN                 \n",
       "2                                             Dried1                 \n",
       "3  1Includes whole dried figs. The USDA National ...                 \n",
       "4                                                NaN                 \n",
       "5  Source: Calculated by ERS, USDA from 2013 IRI ...                 \n",
       "\n",
       "              Unnamed: 1 Unnamed: 2    Unnamed: 3       Unnamed: 4 Unnamed: 5  \\\n",
       "0  Average retail price       fruit   Preparation       Size of a         fig   \n",
       "1                    NaN      fruit  yield factor  cup equivalent         fig   \n",
       "2                5.74832      fruit          0.96         0.165347        fig   \n",
       "3                    NaN      fruit           NaN              NaN        fig   \n",
       "4                    NaN      fruit           NaN              NaN        fig   \n",
       "5                    NaN      fruit           NaN              NaN        fig   \n",
       "\n",
       "           Unnamed: 6  \n",
       "0       Average price  \n",
       "1  per cup equivalent  \n",
       "2            0.990068  \n",
       "3                 NaN  \n",
       "4                 NaN  \n",
       "5                 NaN  "
      ]
     },
     "execution_count": 164,
     "metadata": {},
     "output_type": "execute_result"
    }
   ],
   "source": [
    "for i in range(len(lil)): #limit each df to 7 columns\n",
    "    notwebscraped[i] = notwebscraped[i].iloc[:,:7]\n"
   ]
  },
  {
   "cell_type": "code",
   "execution_count": 185,
   "metadata": {
    "collapsed": false
   },
   "outputs": [],
   "source": [
    "# notwebscraped[1].iloc[:,0] = notwebscraped[i].iloc[:,0].dropna()\n",
    "newdf = []\n",
    "for i in range(len(lil)):\n",
    "    notwebscraped[i].columns = ['form','price_per_lb','type','yield','lb_per_cup','food','price_per_cup'] #make them columns\n"
   ]
  },
  {
   "cell_type": "code",
   "execution_count": 189,
   "metadata": {
    "collapsed": false
   },
   "outputs": [],
   "source": [
    "newdf = [] #new data frame \n",
    "for i in range(len(lil)):\n",
    "    newdf.append(notwebscraped[i])\n",
    "ourdataframe = pd.concat(newdf)\n",
    "ourdataframe = ourdataframe.dropna()"
   ]
  },
  {
   "cell_type": "code",
   "execution_count": 264,
   "metadata": {
    "collapsed": false
   },
   "outputs": [
    {
     "data": {
      "text/plain": [
       "0                                   form\n",
       "2                                 fresh1\n",
       "3                            applesauce2\n",
       "5                        ready to drink3\n",
       "6                                frozen4\n",
       "0                                   form\n",
       "2                                 fresh1\n",
       "3                                 canned\n",
       "4                       packed in juice2\n",
       "5      packed in syrup, syrup discarded3\n",
       "6                                 dried4\n",
       "0                                   form\n",
       "2                                 fresh1\n",
       "0                                   form\n",
       "2                                frozen1\n",
       "0                                   form\n",
       "2                                fresh1 \n",
       "3                                frozen2\n",
       "0                                   form\n",
       "2                                 fresh1\n",
       "3                                frozen2\n",
       "0                                   form\n",
       "2                                 fresh1\n",
       "0                                   form\n",
       "2                                 fresh1\n",
       "3      canned, packed in syrup or water2\n",
       "0                                   form\n",
       "2                                 dried1\n",
       "0                                   form\n",
       "2                                dried1 \n",
       "                    ...                 \n",
       "6                                 frozen\n",
       "0                                   form\n",
       "2                                 fresh1\n",
       "3                                 canned\n",
       "4                       packed in juice2\n",
       "5              packed in syrup or water3\n",
       "0                                   form\n",
       "2                                 fresh1\n",
       "4                       packed in juice2\n",
       "5              packed in syrup or water3\n",
       "6                                 dried4\n",
       "8                        ready to drink5\n",
       "9                                frozen6\n",
       "0                                   form\n",
       "2                                 fresh1\n",
       "3                        dried (prunes)2\n",
       "4                 juice, ready to drink3\n",
       "0                                   form\n",
       "2                                 fresh1\n",
       "3                 juice, ready to drink2\n",
       "0                                   form\n",
       "2                                 fresh1\n",
       "3                                frozen2\n",
       "0                                   form\n",
       "2                                 fresh1\n",
       "3                                frozen2\n",
       "0                                   form\n",
       "2                                 fresh1\n",
       "0                                   form\n",
       "2                                 fresh1\n",
       "Name: form, dtype: object"
      ]
     },
     "execution_count": 264,
     "metadata": {},
     "output_type": "execute_result"
    }
   ],
   "source": [
    "datanon.iloc[:,0] = datanon.iloc[:,0].str.lower()  #lower the names\n",
    "\n"
   ]
  },
  {
   "cell_type": "code",
   "execution_count": 269,
   "metadata": {
    "collapsed": false
   },
   "outputs": [
    {
     "data": {
      "text/html": [
       "<div>\n",
       "<table border=\"1\" class=\"dataframe\">\n",
       "  <thead>\n",
       "    <tr style=\"text-align: right;\">\n",
       "      <th></th>\n",
       "      <th>form</th>\n",
       "      <th>price_per_lb</th>\n",
       "      <th>type</th>\n",
       "      <th>yield</th>\n",
       "      <th>lb_per_cup</th>\n",
       "      <th>food</th>\n",
       "      <th>price_per_cup</th>\n",
       "    </tr>\n",
       "  </thead>\n",
       "  <tbody>\n",
       "    <tr>\n",
       "      <th>2</th>\n",
       "      <td>fresh1</td>\n",
       "      <td>1.56752</td>\n",
       "      <td>fruit</td>\n",
       "      <td>0.9</td>\n",
       "      <td>0.242508</td>\n",
       "      <td>apple</td>\n",
       "      <td>0.422373</td>\n",
       "    </tr>\n",
       "    <tr>\n",
       "      <th>2</th>\n",
       "      <td>fresh1</td>\n",
       "      <td>3.04007</td>\n",
       "      <td>fruit</td>\n",
       "      <td>0.93</td>\n",
       "      <td>0.363763</td>\n",
       "      <td>apricot</td>\n",
       "      <td>1.1891</td>\n",
       "    </tr>\n",
       "    <tr>\n",
       "      <th>2</th>\n",
       "      <td>fresh1</td>\n",
       "      <td>0.566983</td>\n",
       "      <td>fruit</td>\n",
       "      <td>0.64</td>\n",
       "      <td>0.330693</td>\n",
       "      <td>banana</td>\n",
       "      <td>0.292965</td>\n",
       "    </tr>\n",
       "    <tr>\n",
       "      <th>2</th>\n",
       "      <td>fresh1</td>\n",
       "      <td>5.77471</td>\n",
       "      <td>fruit</td>\n",
       "      <td>0.96</td>\n",
       "      <td>0.31967</td>\n",
       "      <td>blackberrie</td>\n",
       "      <td>1.92292</td>\n",
       "    </tr>\n",
       "    <tr>\n",
       "      <th>2</th>\n",
       "      <td>fresh1</td>\n",
       "      <td>4.73462</td>\n",
       "      <td>fruit</td>\n",
       "      <td>0.95</td>\n",
       "      <td>0.31967</td>\n",
       "      <td>blueberrie</td>\n",
       "      <td>1.59318</td>\n",
       "    </tr>\n",
       "    <tr>\n",
       "      <th>2</th>\n",
       "      <td>fresh1</td>\n",
       "      <td>0.535874</td>\n",
       "      <td>fruit</td>\n",
       "      <td>0.51</td>\n",
       "      <td>0.374786</td>\n",
       "      <td>cantaloupe</td>\n",
       "      <td>0.3938</td>\n",
       "    </tr>\n",
       "    <tr>\n",
       "      <th>2</th>\n",
       "      <td>fresh1</td>\n",
       "      <td>3.59299</td>\n",
       "      <td>fruit</td>\n",
       "      <td>0.92</td>\n",
       "      <td>0.341717</td>\n",
       "      <td>cherrie</td>\n",
       "      <td>1.33455</td>\n",
       "    </tr>\n",
       "    <tr>\n",
       "      <th>2</th>\n",
       "      <td>fresh1</td>\n",
       "      <td>0.897802</td>\n",
       "      <td>fruit</td>\n",
       "      <td>0.49</td>\n",
       "      <td>0.462971</td>\n",
       "      <td>grapefruit</td>\n",
       "      <td>0.848278</td>\n",
       "    </tr>\n",
       "    <tr>\n",
       "      <th>2</th>\n",
       "      <td>fresh1</td>\n",
       "      <td>2.09383</td>\n",
       "      <td>fruit</td>\n",
       "      <td>0.96</td>\n",
       "      <td>0.330693</td>\n",
       "      <td>grape</td>\n",
       "      <td>0.721266</td>\n",
       "    </tr>\n",
       "    <tr>\n",
       "      <th>2</th>\n",
       "      <td>fresh1</td>\n",
       "      <td>0.796656</td>\n",
       "      <td>fruit</td>\n",
       "      <td>0.46</td>\n",
       "      <td>0.374786</td>\n",
       "      <td>honeydew</td>\n",
       "      <td>0.649077</td>\n",
       "    </tr>\n",
       "    <tr>\n",
       "      <th>2</th>\n",
       "      <td>fresh1</td>\n",
       "      <td>2.04468</td>\n",
       "      <td>fruit</td>\n",
       "      <td>0.76</td>\n",
       "      <td>0.385809</td>\n",
       "      <td>kiwi</td>\n",
       "      <td>1.03797</td>\n",
       "    </tr>\n",
       "    <tr>\n",
       "      <th>2</th>\n",
       "      <td>fresh1</td>\n",
       "      <td>1.37756</td>\n",
       "      <td>fruit</td>\n",
       "      <td>0.71</td>\n",
       "      <td>0.363763</td>\n",
       "      <td>mangoe</td>\n",
       "      <td>0.705783</td>\n",
       "    </tr>\n",
       "    <tr>\n",
       "      <th>2</th>\n",
       "      <td>fresh1</td>\n",
       "      <td>1.76115</td>\n",
       "      <td>fruit</td>\n",
       "      <td>0.91</td>\n",
       "      <td>0.31967</td>\n",
       "      <td>nectarine</td>\n",
       "      <td>0.618667</td>\n",
       "    </tr>\n",
       "    <tr>\n",
       "      <th>2</th>\n",
       "      <td>fresh1</td>\n",
       "      <td>1.03517</td>\n",
       "      <td>fruit</td>\n",
       "      <td>0.73</td>\n",
       "      <td>0.407855</td>\n",
       "      <td>orange</td>\n",
       "      <td>0.578357</td>\n",
       "    </tr>\n",
       "    <tr>\n",
       "      <th>2</th>\n",
       "      <td>fresh1</td>\n",
       "      <td>1.29801</td>\n",
       "      <td>fruit</td>\n",
       "      <td>0.62</td>\n",
       "      <td>0.308647</td>\n",
       "      <td>papaya</td>\n",
       "      <td>0.646174</td>\n",
       "    </tr>\n",
       "    <tr>\n",
       "      <th>2</th>\n",
       "      <td>fresh1</td>\n",
       "      <td>1.59119</td>\n",
       "      <td>fruit</td>\n",
       "      <td>0.96</td>\n",
       "      <td>0.341717</td>\n",
       "      <td>peache</td>\n",
       "      <td>0.56639</td>\n",
       "    </tr>\n",
       "    <tr>\n",
       "      <th>2</th>\n",
       "      <td>fresh1</td>\n",
       "      <td>1.46157</td>\n",
       "      <td>fruit</td>\n",
       "      <td>0.9</td>\n",
       "      <td>0.363763</td>\n",
       "      <td>pear</td>\n",
       "      <td>0.59074</td>\n",
       "    </tr>\n",
       "    <tr>\n",
       "      <th>2</th>\n",
       "      <td>fresh1</td>\n",
       "      <td>0.627662</td>\n",
       "      <td>fruit</td>\n",
       "      <td>0.51</td>\n",
       "      <td>0.363763</td>\n",
       "      <td>pineapple</td>\n",
       "      <td>0.447686</td>\n",
       "    </tr>\n",
       "    <tr>\n",
       "      <th>2</th>\n",
       "      <td>fresh1</td>\n",
       "      <td>1.82742</td>\n",
       "      <td>fruit</td>\n",
       "      <td>0.94</td>\n",
       "      <td>0.363763</td>\n",
       "      <td>plum</td>\n",
       "      <td>0.707176</td>\n",
       "    </tr>\n",
       "    <tr>\n",
       "      <th>2</th>\n",
       "      <td>fresh1</td>\n",
       "      <td>2.17359</td>\n",
       "      <td>fruit</td>\n",
       "      <td>0.56</td>\n",
       "      <td>0.341717</td>\n",
       "      <td>pomegranate</td>\n",
       "      <td>1.32634</td>\n",
       "    </tr>\n",
       "    <tr>\n",
       "      <th>2</th>\n",
       "      <td>fresh1</td>\n",
       "      <td>6.97581</td>\n",
       "      <td>fruit</td>\n",
       "      <td>0.96</td>\n",
       "      <td>0.31967</td>\n",
       "      <td>raspberrie</td>\n",
       "      <td>2.32287</td>\n",
       "    </tr>\n",
       "    <tr>\n",
       "      <th>2</th>\n",
       "      <td>fresh1</td>\n",
       "      <td>2.35881</td>\n",
       "      <td>fruit</td>\n",
       "      <td>0.94</td>\n",
       "      <td>0.31967</td>\n",
       "      <td>strawberrie</td>\n",
       "      <td>0.802171</td>\n",
       "    </tr>\n",
       "    <tr>\n",
       "      <th>2</th>\n",
       "      <td>fresh1</td>\n",
       "      <td>1.37796</td>\n",
       "      <td>fruit</td>\n",
       "      <td>0.74</td>\n",
       "      <td>0.407855</td>\n",
       "      <td>tangerine</td>\n",
       "      <td>0.759471</td>\n",
       "    </tr>\n",
       "    <tr>\n",
       "      <th>2</th>\n",
       "      <td>fresh1</td>\n",
       "      <td>0.333412</td>\n",
       "      <td>fruit</td>\n",
       "      <td>0.52</td>\n",
       "      <td>0.330693</td>\n",
       "      <td>watermelon</td>\n",
       "      <td>0.212033</td>\n",
       "    </tr>\n",
       "  </tbody>\n",
       "</table>\n",
       "</div>"
      ],
      "text/plain": [
       "      form price_per_lb   type yield lb_per_cup         food price_per_cup\n",
       "2   fresh1      1.56752  fruit   0.9   0.242508        apple      0.422373\n",
       "2   fresh1      3.04007  fruit  0.93   0.363763      apricot        1.1891\n",
       "2   fresh1     0.566983  fruit  0.64   0.330693       banana      0.292965\n",
       "2  fresh1       5.77471  fruit  0.96    0.31967  blackberrie       1.92292\n",
       "2   fresh1      4.73462  fruit  0.95    0.31967   blueberrie       1.59318\n",
       "2   fresh1     0.535874  fruit  0.51   0.374786   cantaloupe        0.3938\n",
       "2   fresh1      3.59299  fruit  0.92   0.341717      cherrie       1.33455\n",
       "2   fresh1     0.897802  fruit  0.49   0.462971   grapefruit      0.848278\n",
       "2   fresh1      2.09383  fruit  0.96   0.330693        grape      0.721266\n",
       "2   fresh1     0.796656  fruit  0.46   0.374786     honeydew      0.649077\n",
       "2   fresh1      2.04468  fruit  0.76   0.385809         kiwi       1.03797\n",
       "2   fresh1      1.37756  fruit  0.71   0.363763       mangoe      0.705783\n",
       "2   fresh1      1.76115  fruit  0.91    0.31967    nectarine      0.618667\n",
       "2   fresh1      1.03517  fruit  0.73   0.407855       orange      0.578357\n",
       "2   fresh1      1.29801  fruit  0.62   0.308647       papaya      0.646174\n",
       "2   fresh1      1.59119  fruit  0.96   0.341717       peache       0.56639\n",
       "2   fresh1      1.46157  fruit   0.9   0.363763         pear       0.59074\n",
       "2   fresh1     0.627662  fruit  0.51   0.363763    pineapple      0.447686\n",
       "2   fresh1      1.82742  fruit  0.94   0.363763         plum      0.707176\n",
       "2   fresh1      2.17359  fruit  0.56   0.341717  pomegranate       1.32634\n",
       "2   fresh1      6.97581  fruit  0.96    0.31967   raspberrie       2.32287\n",
       "2   fresh1      2.35881  fruit  0.94    0.31967  strawberrie      0.802171\n",
       "2   fresh1      1.37796  fruit  0.74   0.407855    tangerine      0.759471\n",
       "2   fresh1     0.333412  fruit  0.52   0.330693   watermelon      0.212033"
      ]
     },
     "execution_count": 269,
     "metadata": {},
     "output_type": "execute_result"
    }
   ],
   "source": [
    "fruit = datanon[datanon['form'].str.contains(\"fresh\")] #final fruit data\n"
   ]
  },
  {
   "cell_type": "markdown",
   "metadata": {},
   "source": [
    "__Exercise 1.2.__ Reuse your code from exercise 1.1 to extract the \"Fresh\" row(s) from the <strong style=\"color:#B0B\">vegetable</strong> Excel files.\n",
    "\n",
    "Does your code produce the correct prices for tomatoes? If not, why not? Do any other files have the same problem as the tomatoes file?\n",
    "\n",
    "You don't need to extract the prices for these problem files. However, make sure the prices are extracted for files like asparagus that don't have this problem."
   ]
  },
  {
   "cell_type": "code",
   "execution_count": 273,
   "metadata": {
    "collapsed": false
   },
   "outputs": [],
   "source": [
    "veglist = os.listdir(\"/Users/ryanbrady/Desktop/141hw/vegetables\")\n",
    "veggies = [x for x in veglist if \"~\" not in x] # list the files\n"
   ]
  },
  {
   "cell_type": "code",
   "execution_count": 288,
   "metadata": {
    "collapsed": false
   },
   "outputs": [],
   "source": [
    "vegwebscraped = [pd.read_excel(x) for x in veggies]\n",
    "\n",
    "for i in range(len(veglist)):\n",
    "    vegwebscraped[i].iloc[:,5] = veggies[i] # read in data"
   ]
  },
  {
   "cell_type": "code",
   "execution_count": 289,
   "metadata": {
    "collapsed": false
   },
   "outputs": [],
   "source": [
    "for i in range(len(veglist)): #get the veg\n",
    "    vegwebscraped[i].iloc[:,2] = \"vegetable\""
   ]
  },
  {
   "cell_type": "code",
   "execution_count": 291,
   "metadata": {
    "collapsed": false
   },
   "outputs": [],
   "source": [
    "for i in range(len(veglist)):\n",
    "    vegwebscraped[i].iloc[:,5] = [x.rstrip(\".xslsx\") for x in vegwebscraped[i].iloc[:,5]] #Loop to getveg names"
   ]
  },
  {
   "cell_type": "code",
   "execution_count": 294,
   "metadata": {
    "collapsed": false
   },
   "outputs": [],
   "source": [
    "for i in range(len(veglist)): #limit each df to 7 columns\n",
    "    vegwebscraped[i] = vegwebscraped[i].iloc[:,:7]\n",
    "\n"
   ]
  },
  {
   "cell_type": "code",
   "execution_count": 295,
   "metadata": {
    "collapsed": true
   },
   "outputs": [],
   "source": [
    "for i in range(len(veglist)):\n",
    "    vegwebscraped[i].iloc[:,0] = vegwebscraped[i].iloc[:,0].dropna()"
   ]
  },
  {
   "cell_type": "code",
   "execution_count": 305,
   "metadata": {
    "collapsed": false
   },
   "outputs": [],
   "source": [
    "vegdf = []\n",
    "for i in range(len(veglist)):\n",
    "    vegwebscraped[i].columns = ['form','price_per_lb','type','yield','lb_per_cup','food','price_per_cup'] #make them columns\n",
    "\n"
   ]
  },
  {
   "cell_type": "code",
   "execution_count": 306,
   "metadata": {
    "collapsed": false
   },
   "outputs": [],
   "source": [
    "for i in range(len(veglist)):\n",
    "    vegdf.append(vegwebscraped[i])\n",
    "vegdataframe = pd.concat(vegdf)"
   ]
  },
  {
   "cell_type": "code",
   "execution_count": 325,
   "metadata": {
    "collapsed": false
   },
   "outputs": [],
   "source": [
    "vegnona = vegdataframe[~vegdataframe['form'].isnull()]"
   ]
  },
  {
   "cell_type": "code",
   "execution_count": 327,
   "metadata": {
    "collapsed": true
   },
   "outputs": [],
   "source": [
    "vegnona.iloc[:,0] = vegnona.iloc[:,0].str.lower()  #lower the names\n",
    "\n"
   ]
  },
  {
   "cell_type": "code",
   "execution_count": 331,
   "metadata": {
    "collapsed": false
   },
   "outputs": [],
   "source": [
    "veggies =vegnona[vegnona['form'].str.contains(\"fresh\")] #final veg data\n",
    "\n"
   ]
  },
  {
   "cell_type": "markdown",
   "metadata": {},
   "source": [
    "veggies"
   ]
  },
  {
   "cell_type": "markdown",
   "metadata": {},
   "source": [
    "My code does not produce the correct prices for tomatoes. Because tomatoes is not listed with fresh, but instead different descriptions of the tomatoes, the tomatoes get weeded out in the subsetting of the variables. Because many of the other vegetables are defined with multiple "
   ]
  },
  {
   "cell_type": "markdown",
   "metadata": {},
   "source": [
    "__Exercise 1.3.__ Remove rows without a price from the vegetable data frame and then combine the fruit and vegetable data frames. Make sure all columns of numbers are numeric (not strings)."
   ]
  },
  {
   "cell_type": "markdown",
   "metadata": {},
   "source": [
    "__Exercise 1.4.__ Discuss the questions below (a paragraph each is sufficient). Use plots to support your ideas.\n",
    "\n",
    "* What kinds of fruits are the most expensive (per pound)? What kinds are the least expensive?\n",
    "* How do the price distributions compare for fruit and vegetables?\n",
    "* Which foods are the best value for the price?\n",
    "* What's something surprising about this data set?\n",
    "* Which foods do you expect to provide the best combination of price, yield, and nutrition? A future assignment may combine this data set with another so you can check your hypothesis."
   ]
  }
 ],
 "metadata": {
  "anaconda-cloud": {},
  "kernelspec": {
   "display_name": "Python [default]",
   "language": "python",
   "name": "python2"
  },
  "language_info": {
   "codemirror_mode": {
    "name": "ipython",
    "version": 2
   },
   "file_extension": ".py",
   "mimetype": "text/x-python",
   "name": "python",
   "nbconvert_exporter": "python",
   "pygments_lexer": "ipython2",
   "version": "2.7.12"
  }
 },
 "nbformat": 4,
 "nbformat_minor": 2
}
