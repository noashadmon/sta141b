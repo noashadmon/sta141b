{
 "cells": [
  {
   "cell_type": "markdown",
   "metadata": {},
   "source": [
    "## Part 1: The Doomsday Algorithm\n",
    "\n",
    "The Doomsday algorithm, devised by mathematician J. H. Conway, computes the day of the week any given date fell on. The algorithm is designed to be simple enough to memorize and use for mental calculation.\n",
    "\n",
    "__Example.__ With the algorithm, we can compute that July 4, 1776 (the day the United States declared independence from Great Britain) was a Thursday.\n",
    "\n",
    "The algorithm is based on the fact that for any year, several dates always fall on the same day of the week, called the <em style=\"color:#F00\">doomsday</em> for the year. These dates include 4/4, 6/6, 8/8, 10/10, and 12/12.\n",
    "\n",
    "__Example.__ The doomsday for 2016 is Monday, so in 2016 the dates above all fell on Mondays. The doomsday for 2017 is Tuesday, so in 2017 the dates above will all fall on Tuesdays.\n",
    "\n",
    "The doomsday algorithm has three major steps:\n",
    "\n",
    "1. Compute the anchor day for the target century.\n",
    "2. Compute the doomsday for the target year based on the anchor day.\n",
    "3. Determine the day of week for the target date by counting the number of days to the nearest doomsday.\n",
    "\n",
    "Each step is explained in detail below."
   ]
  },
  {
   "cell_type": "markdown",
   "metadata": {},
   "source": [
    "### The Anchor Day\n",
    "\n",
    "The doomsday for the first year in a century is called the <em style=\"color:#F00\">anchor day</em> for that century. The anchor day is needed to compute the doomsday for any other year in that century. The anchor day for a century $c$ can be computed with the formula:\n",
    "$$\n",
    "a = \\bigl( 5 (c \\bmod 4) + 2 \\bigr) \\bmod 7\n",
    "$$\n",
    "The result $a$ corresponds to a day of the week, starting with $0$ for Sunday and ending with $6$ for Saturday.\n",
    "\n",
    "__Note.__ The modulo operation $(x \\bmod y)$ finds the remainder after dividing $x$ by $y$. For instance, $12 \\bmod 3 = 0$ since the remainder after dividing $12$ by $3$ is $0$. Similarly, $11 \\bmod 7 = 4$, since the remainder after dividing $11$ by $7$ is $4$.\n",
    "\n",
    "__Example.__ Suppose the target year is 1954, so the century is $c = 19$. Plugging this into the formula gives\n",
    "$$a = \\bigl( 5 (19 \\bmod 4) + 2 \\bigr) \\bmod 7 = \\bigl( 5(3) + 2 \\bigr) \\bmod 7 = 3.$$\n",
    "In other words, the anchor day for 1900-1999 is Wednesday, which is also the doomsday for 1900.\n",
    "\n",
    "__Exercise 1.1.__ Write a function that accepts a year as input and computes the anchor day for that year's century. The modulo operator `%` and functions in the `math` module may be useful. Document your function with a docstring and test your function for a few different years.  Do this in a new cell below this one."
   ]
  },
  {
   "cell_type": "code",
   "execution_count": 1,
   "metadata": {
    "collapsed": false
   },
   "outputs": [
    {
     "name": "stdout",
     "output_type": "stream",
     "text": [
      "3\n",
      "3\n",
      "2\n",
      "5\n"
     ]
    }
   ],
   "source": [
    "def anchor(year):\n",
    "    c = year/100\n",
    "    day = (((5*(c%4)) + 2)%7)\n",
    "    return day\n",
    "\n",
    "print(anchor(1900))\n",
    "print(anchor(1954))\n",
    "print(anchor(2011))\n",
    "print(anchor(1832))"
   ]
  },
  {
   "cell_type": "markdown",
   "metadata": {},
   "source": [
    "### The Doomsday\n",
    "\n",
    "Once the anchor day is known, let $y$ be the last two digits of the target year. Then the doomsday for the target year can be computed with the formula:\n",
    "$$d = \\left(y + \\left\\lfloor\\frac{y}{4}\\right\\rfloor + a\\right) \\bmod 7$$\n",
    "The result $d$ corresponds to a day of the week.\n",
    "\n",
    "__Note.__ The floor operation $\\lfloor x \\rfloor$ rounds $x$ down to the nearest integer. For instance, $\\lfloor 3.1 \\rfloor = 3$ and $\\lfloor 3.8 \\rfloor = 3$.\n",
    "\n",
    "__Example.__ Again suppose the target year is 1954. Then the anchor day is $a = 3$, and $y = 54$, so the formula gives\n",
    "$$\n",
    "d = \\left(54 + \\left\\lfloor\\frac{54}{4}\\right\\rfloor + 3\\right) \\bmod 7 = (54 + 13 + 3) \\bmod 7 = 0.\n",
    "$$\n",
    "Thus the doomsday for 1954 is Sunday.\n",
    "\n",
    "__Exercise 1.2.__ Write a function that accepts a year as input and computes the doomsday for that year. Your function may need to call the function you wrote in exercise 1.1. Make sure to document and test your function."
   ]
  },
  {
   "cell_type": "code",
   "execution_count": 2,
   "metadata": {
    "collapsed": false
   },
   "outputs": [],
   "source": [
    "import math\n",
    "def doomsday(year):\n",
    "    y = year % 100 #last 2 digits\n",
    "    a = anchor(year)\n",
    "    \n",
    "    d = (y + math.floor(y/4) +a)%7\n",
    "    return int(d)"
   ]
  },
  {
   "cell_type": "code",
   "execution_count": 73,
   "metadata": {
    "collapsed": false
   },
   "outputs": [
    {
     "name": "stdout",
     "output_type": "stream",
     "text": [
      "4 3 0\n",
      "2\n"
     ]
    }
   ],
   "source": [
    "print doomsday(1901),doomsday(2012),doomsday(1954)\n",
    "print doomsday(1978)"
   ]
  },
  {
   "cell_type": "markdown",
   "metadata": {},
   "source": [
    "### The Day of Week\n",
    "\n",
    "The final step in the Doomsday algorithm is to count the number of days between the target date and a nearby doomsday, modulo 7. This gives the day of the week.\n",
    "\n",
    "Every month has at least one doomsday:\n",
    "* (regular years) 1/10, 2/28\n",
    "* (leap years) 1/11, 2/29\n",
    "* 3/21, 4/4, 5/9, 6/6, 7/11, 8/8, 9/5, 10/10, 11/7, 12/12\n",
    "\n",
    "__Example.__ Suppose we want to find the day of the week for 7/21/1954. The doomsday for 1954 is Sunday, and a nearby doomsday is 7/11. There are 10 days in July between 7/11 and 7/21. Since $10 \\bmod 7 = 3$, the date 7/21/1954 falls 3 days after a Sunday, on a Wednesday.\n",
    "\n",
    "__Exercise 1.3.__ Write a function to determine the day of the week for a given day, month, and year. Be careful of leap years! Your function should return a string such as \"Thursday\" rather than a number. As usual, document and test your code."
   ]
  },
  {
   "cell_type": "code",
   "execution_count": 160,
   "metadata": {
    "collapsed": false
   },
   "outputs": [],
   "source": [
    "#checks to see if the year is a leap year\n",
    "def isLeap(year):\n",
    "    if (year%4 == 0):\n",
    "        if (year%100 == 0):\n",
    "            if (year % 400 == 0):\n",
    "                return True\n",
    "            else:\n",
    "                return False\n",
    "        else:\n",
    "            return True\n",
    "    else:\n",
    "        return False\n",
    "\n",
    "#finds remaning day between prev month and the day were checking\n",
    "def daysInMonth(month, day, year):\n",
    "    if (month == 2 and isLeap(year) == True):\n",
    "        x = 29 - day\n",
    "    elif (month == 2 and isLeap(year) == False):\n",
    "        x = 28-day\n",
    "    elif (month in [4, 6,9,11]):\n",
    "        x=30-day\n",
    "    else:\n",
    "        x=31-day\n",
    "        \n",
    "    return x\n",
    "def dayOfWeek(month, day, year):\n",
    "    #creates array with the days \n",
    "    if (isLeap(year) == True):\n",
    "        days = [11, 29, 4, 9, 6, 11, 8, 5, 10, 7, 12]\n",
    "    else:\n",
    "        days = [10, 28, 4, 9, 6, 11, 8, 5, 10, 7, 12]\n",
    "    if (month >= 3):\n",
    "        newDay = days[month - 2]\n",
    "    else:\n",
    "        newDay = days[month-1]\n",
    "    dooms = doomsday(year)\n",
    "    #print dooms\n",
    "    if (month == 3):\n",
    "        time = abs(daysInMonth(2,days[1],year) - day)\n",
    "    else:\n",
    "        time = abs(newDay - day)\n",
    "    #print time\n",
    "    #adder = 2\n",
    "    #dooms = 2\n",
    "    adder = time%7\n",
    "    #print \"time is \", adder\n",
    "    # lol testdate = adder + dooms\n",
    "    date = adder + dooms\n",
    "    #date = 4\n",
    "    if (date%7 == 0):\n",
    "        x = \"Sunday\"\n",
    "    elif (date%7 == 1):\n",
    "        x = \"Monday\"\n",
    "    elif (date%7 == 2):\n",
    "        x = \"Tuesday\"\n",
    "    elif (date%7 == 3):\n",
    "        x = \"Wednesday\"\n",
    "    elif (date%7 == 4):\n",
    "        x = \"Thursday\"\n",
    "    elif (date%7 == 5):\n",
    "        x = \"Friday\"\n",
    "    else:\n",
    "        x = \"Saturday\"\n",
    "\n",
    "        \n",
    "    return x"
   ]
  },
  {
   "cell_type": "code",
   "execution_count": 166,
   "metadata": {
    "collapsed": false
   },
   "outputs": [
    {
     "data": {
      "text/plain": [
       "'Wednesday'"
      ]
     },
     "execution_count": 166,
     "metadata": {},
     "output_type": "execute_result"
    }
   ],
   "source": [
    "dayOfWeek(7, 21, 1954)"
   ]
  },
  {
   "cell_type": "markdown",
   "metadata": {},
   "source": [
    "__Exercise 1.4.__ How many times did Friday the 13th occur in the years 1900-1999? Does this number seem to be similar to other centuries?"
   ]
  },
  {
   "cell_type": "code",
   "execution_count": 81,
   "metadata": {
    "collapsed": false
   },
   "outputs": [
    {
     "data": {
      "text/plain": [
       "171"
      ]
     },
     "execution_count": 81,
     "metadata": {},
     "output_type": "execute_result"
    }
   ],
   "source": [
    "def friyays(minYear, maxYear):\n",
    "    count = 0\n",
    "    for i in range(minYear,maxYear+1):\n",
    "        for j in range(1,13):\n",
    "            if (dayOfWeek(j,13,i) == \"Friday\"):\n",
    "                count += 1\n",
    "    return count\n",
    "\n",
    "friyays(1900, 1999)\n",
    "friyays(2000,2099)\n",
    "friyays(1800,1899)\n",
    "friyays(1700,1799)"
   ]
  },
  {
   "cell_type": "markdown",
   "metadata": {},
   "source": [
    "After running the code for 3 different centuries it seems like the number is similar to other centuries. "
   ]
  },
  {
   "cell_type": "markdown",
   "metadata": {},
   "source": [
    "Yes, it seems like they all have approximately 172/173 friady the 13 for each century."
   ]
  },
  {
   "cell_type": "markdown",
   "metadata": {},
   "source": [
    "__Exercise 1.5.__ How many times did Friday the 13th occur between the year 2000 and today?"
   ]
  },
  {
   "cell_type": "code",
   "execution_count": 82,
   "metadata": {
    "collapsed": false
   },
   "outputs": [
    {
     "name": "stdout",
     "output_type": "stream",
     "text": [
      "30\n"
     ]
    }
   ],
   "source": [
    "count = 0\n",
    "for i in range(2000,2018):\n",
    "    for j in range(1,13):\n",
    "        if (dayOfWeek(j,13,i) == \"Friday\"):\n",
    "            count += 1\n",
    "\n",
    "print count"
   ]
  },
  {
   "cell_type": "markdown",
   "metadata": {},
   "source": [
    "## Part 2: 1978 Birthdays\n",
    "\n",
    "__Exercise 2.1.__ The file `birthdays.txt` contains the number of births in the United States for each day in 1978. Inspect the file to determine the format. Note that columns are separated by the tab character, which can be entered in Python as `\\t`. Write a function that uses iterators and list comprehensions with the string methods `split()` and `strip()` to  convert each line of data to the list format\n",
    "\n",
    "```Python\n",
    "[month, day, year, count]\n",
    "```\n",
    "The elements of this list should be integers, not strings. The function `read_birthdays` provided below will help you load the file."
   ]
  },
  {
   "cell_type": "code",
   "execution_count": 83,
   "metadata": {
    "collapsed": false
   },
   "outputs": [],
   "source": [
    "def read_birthdays(file_path):\n",
    "    \"\"\"Read the contents of the birthdays file into a string.\n",
    "    \n",
    "    Arguments:\n",
    "        file_path (string): The path to the birthdays file.\n",
    "        \n",
    "    Returns:\n",
    "        string: The contents of the birthdays file.\n",
    "    \"\"\"\n",
    "    with open(file_path) as file:\n",
    "        return file.read()\n",
    "#read_birthdays(\"/Users/noa/Downloads/birthdays.txt\")"
   ]
  },
  {
   "cell_type": "code",
   "execution_count": 153,
   "metadata": {
    "collapsed": false
   },
   "outputs": [],
   "source": [
    "def change(file_path):\n",
    "    data = read_birthdays(file_path)\n",
    "    data = data.strip()\n",
    "    data = data.split('\\n\\n')[2]\n",
    "\n",
    "    data = data.split(\"\\t\")\n",
    "\n",
    "    #remove all the newliens\n",
    "    for i in range(len(data)):\n",
    "        if (data[i] == \"\\n\"):\n",
    "            break\n",
    "\n",
    "    #list to strings\n",
    "    data =  \" \".join(str(x) for x in data)\n",
    "    #string to list\n",
    "\n",
    "    data = data.split()\n",
    "    l = [[]]\n",
    "\n",
    "    for i in range(0, len(data)):\n",
    "        \n",
    "        temp = []\n",
    "        if (i%2 == 0):\n",
    "            if (data[i][1] == \"/\"):\n",
    "                #print i,data[544][0]\n",
    "                month = data[i][0]\n",
    "                if (data[i][3] == \"/\"):\n",
    "                    day = data[i][2]\n",
    "                    year = data[i][4:6]\n",
    "                else:\n",
    "                    day = data[i][2:4]\n",
    "                    year = data[i][5:7]\n",
    "            else:\n",
    "                month = data[i][0:2]\n",
    "                if (data[i][4] == \"/\"):\n",
    "                    day = data[i][3]\n",
    "                    year = data[i][5:7]\n",
    "                else:\n",
    "                    day = data[i][3:5]\n",
    "                    year = data[i][6:8]\n",
    "                \n",
    "            temp.append(month)\n",
    "            #print month\n",
    "            temp.append(day)\n",
    "            temp.append(year)\n",
    "            temp.append(data[i+1])\n",
    "            \n",
    "        l.append(temp)\n",
    "\n",
    "    list2 = [x for x in l if x != []] \n",
    "    #print list2\n",
    "    list2 = [[int(x[y]) for y in range (0,4)] for x in list2]\n",
    "    return list2\n",
    "\n",
    "            \n",
    "  \n",
    "     \n",
    "  #  print list2\n",
    "    \n",
    "#change(\"/Users/noa/Downloads/birthdays.txt\")"
   ]
  },
  {
   "cell_type": "markdown",
   "metadata": {},
   "source": [
    "__Exercise 2.2.__ Which month had the most births in 1978? Which day of the week had the most births? Which day of the week had the fewest? What conclusions can you draw? You may find the `Counter` class in the `collections` module useful."
   ]
  },
  {
   "cell_type": "code",
   "execution_count": 169,
   "metadata": {
    "collapsed": false
   },
   "outputs": [
    {
     "name": "stdout",
     "output_type": "stream",
     "text": [
      "Day of week with most births is  3\n",
      "Day of week with least births is  0\n"
     ]
    }
   ],
   "source": [
    "from collections import Counter\n",
    "x = change(\"/Users/noa/Downloads/birthdays.txt\")\n",
    "#print x\n",
    "#most births in 1978\n",
    "def mostbirths(x):\n",
    "    counter = 0\n",
    "    temp = -1\n",
    "    first = 1\n",
    "    month = 1\n",
    "    for i in range(0, len(x)):\n",
    "        if first == x[i][0]:\n",
    "            counter += x[i][3]\n",
    "            continue\n",
    "        if (temp < counter):\n",
    "            temp = counter\n",
    "            month = first\n",
    "        first += 1\n",
    "        counter = 0\n",
    "    return month\n",
    "\n",
    "def mostday(x, y):\n",
    "    ar = [0,0,0,0,0,0,0]\n",
    "    #print len(x)\n",
    "    for i in range(0, len(x)):\n",
    "        day = dayOfWeek(x[i][0],x[i][1],1978)\n",
    "        #print \"day is \", dayOfWeek(1,2,1978)\n",
    "        if (day == \"Sunday\"):\n",
    "            ar[0] += x[i][3]   \n",
    "        elif (day == \"Monday\"):\n",
    "            ar[1] += x[i][3]\n",
    "        elif (day == \"Tuesday\"):\n",
    "            ar[2] += x[i][3]\n",
    "        elif (day == \"Wednesday\"):\n",
    "            ar[3] += x[i][3]\n",
    "        elif (day == \"Thursday\"):\n",
    "            ar[4] += x[i][3]\n",
    "        elif (day == \"Friday\"):\n",
    "            ar[5] += x[i][3]\n",
    "        else:\n",
    "            ar[6] += x[i][3]\n",
    "    #return ar\n",
    "    j = 0\n",
    "    if (y == \"high\"):\n",
    "        temp = 0\n",
    "        for i in range(0,len(ar)):\n",
    "            if ar[i] > temp:\n",
    "                temp = ar[i]\n",
    "                j = i\n",
    "    else:\n",
    "        temp = 10**9\n",
    "        for i in range(0,len(ar)):\n",
    "            if ar[i] < temp:\n",
    "                temp = ar[i]\n",
    "                j = i \n",
    "    #print ar\n",
    "    return j\n",
    "\n",
    "print \"Day of week with most births is \", mostday(x,\"high\")\n",
    "print \"Day of week with least births is \", mostday(x,\"min\")\n",
    "\n",
    "\n",
    "\n",
    "           "
   ]
  },
  {
   "cell_type": "markdown",
   "metadata": {},
   "source": [
    "From here we can see that the most birthdays occured in the month of August and on a Wednesday. We can infer that there were many birthdays on each Wednesday in August and the smallest amount of birthdays on Sundays in August. "
   ]
  },
  {
   "cell_type": "markdown",
   "metadata": {},
   "source": [
    "__Exercise 2.3.__ What would be an effective way to present the information in exercise 2.2? You don't need to write any code for this exercise, just discuss what you would do."
   ]
  },
  {
   "cell_type": "markdown",
   "metadata": {},
   "source": [
    "An effective way to prsent this information would be in a couple of graphs. Show average number of birthdays on each day of the week per month (bar chart). Another graph could be to show the number of birthdays per month. "
   ]
  },
  {
   "cell_type": "code",
   "execution_count": null,
   "metadata": {
    "collapsed": true
   },
   "outputs": [],
   "source": []
  }
 ],
 "metadata": {
  "anaconda-cloud": {},
  "kernelspec": {
   "display_name": "Python [default]",
   "language": "python",
   "name": "python2"
  },
  "language_info": {
   "codemirror_mode": {
    "name": "ipython",
    "version": 2
   },
   "file_extension": ".py",
   "mimetype": "text/x-python",
   "name": "python",
   "nbconvert_exporter": "python",
   "pygments_lexer": "ipython2",
   "version": "2.7.12"
  }
 },
 "nbformat": 4,
 "nbformat_minor": 2
}
