{
 "cells": [
  {
   "cell_type": "markdown",
   "metadata": {},
   "source": [
    "## Wine dataset\n",
    "We will be looking at a dataset that consists of wine statistics by wine category.  \n",
    "\n",
    "(1) Modify the following to see the head of the wine data file.  (You should specify the relative path of the data.)"
   ]
  },
  {
   "cell_type": "code",
   "execution_count": 1,
   "metadata": {
    "collapsed": false
   },
   "outputs": [
    {
     "name": "stdout",
     "output_type": "stream",
     "text": [
      "#The next 14 lines are the variable names, then the remaining lines are the data in csv\r\n",
      "Wine Class\r\n",
      "Alcohol\r\n",
      "Malic acid\r\n",
      "Ash\r\n",
      "Alcalinity of ash\r\n",
      "Magnesium\r\n",
      "Total phenols\r\n",
      "Flavanoids\r\n",
      "Nonflavanoid phenols\r\n"
     ]
    }
   ],
   "source": [
    "!head wine.data.txt"
   ]
  },
  {
   "cell_type": "markdown",
   "metadata": {},
   "source": [
    "As you can see, the first several lines are the variable names and the remainder is comma separated lines of numbers.  \n",
    "\n",
    "(2) Create a file object with open(), and then read in the lines in sequence.  Disregard the first line, read the next 14 in and save the variable names in a list, and save the rest in a list of lists of numbers (each line forms a list by splitting by commas)."
   ]
  },
  {
   "cell_type": "markdown",
   "metadata": {},
   "source": [
    "(3) Import numpy and save the list of lists as an array object, where the entries are floats."
   ]
  },
  {
   "cell_type": "markdown",
   "metadata": {},
   "source": [
    "(4) Print the sample mean and standard deviations of each column (variable)."
   ]
  },
  {
   "cell_type": "markdown",
   "metadata": {},
   "source": [
    "(5) Normalize the data matrix by subtracting each column mean and divide by the column standard deviation for each column."
   ]
  },
  {
   "cell_type": "markdown",
   "metadata": {},
   "source": [
    "(6) Save the number of rows of the matrix as n."
   ]
  },
  {
   "cell_type": "markdown",
   "metadata": {},
   "source": [
    "(7) The correlation matrix of a normalized matrix X can be computed as $$\\frac{1}{n-1}X^\\top X$$  Compute this. "
   ]
  },
  {
   "cell_type": "markdown",
   "metadata": {},
   "source": [
    "(8) Use the following code to print an image that corresponds to the correlation matrix."
   ]
  },
  {
   "cell_type": "code",
   "execution_count": null,
   "metadata": {
    "collapsed": false
   },
   "outputs": [],
   "source": [
    "from matplotlib import pyplot as plt\n",
    "plt.imshow(Cov)\n",
    "plt.show()"
   ]
  },
  {
   "cell_type": "markdown",
   "metadata": {},
   "source": [
    "The following computes F-scores for individual ANOVAs for each variable by class.  If you get finished early try to figure out what's going on."
   ]
  },
  {
   "cell_type": "code",
   "execution_count": null,
   "metadata": {
    "collapsed": false
   },
   "outputs": [],
   "source": [
    "N = np.array([(X[:,0] == i+1).sum() for i in range(3)])\n",
    "V = np.array([X[X[:,0] == i+1,1:].var(axis=0) for i in range(3)])\n",
    "M = np.array([X[X[:,0] == i+1,1:].mean(axis=0) for i in range(3)])\n",
    "Bvar = (((M - X[:,1:].mean(axis=0))**2.).T * N).sum(axis=1) / 2\n",
    "Wvar = (V.T * (N-1)).sum(axis=1) / (n - 3)\n",
    "F = Bvar / Wvar"
   ]
  },
  {
   "cell_type": "code",
   "execution_count": null,
   "metadata": {
    "collapsed": false
   },
   "outputs": [],
   "source": [
    "print F"
   ]
  }
 ],
 "metadata": {
  "anaconda-cloud": {},
  "kernelspec": {
   "display_name": "Python [default]",
   "language": "python",
   "name": "python2"
  },
  "language_info": {
   "codemirror_mode": {
    "name": "ipython",
    "version": 2
   },
   "file_extension": ".py",
   "mimetype": "text/x-python",
   "name": "python",
   "nbconvert_exporter": "python",
   "pygments_lexer": "ipython2",
   "version": "2.7.12"
  }
 },
 "nbformat": 4,
 "nbformat_minor": 1
}
